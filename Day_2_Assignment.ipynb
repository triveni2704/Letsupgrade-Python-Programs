{
  "nbformat": 4,
  "nbformat_minor": 0,
  "metadata": {
    "colab": {
      "name": "Day 2 Assignment.ipynb",
      "provenance": []
    },
    "kernelspec": {
      "name": "python3",
      "display_name": "Python 3"
    }
  },
  "cells": [
    {
      "cell_type": "markdown",
      "metadata": {
        "id": "kxwwzmasIbff"
      },
      "source": [
        "# **Assignment 1**"
      ]
    },
    {
      "cell_type": "markdown",
      "metadata": {
        "id": "JsqYfsLsItes"
      },
      "source": [
        "**Q1 :- Try 5 Different function of the string in python**"
      ]
    },
    {
      "cell_type": "code",
      "metadata": {
        "colab": {
          "base_uri": "https://localhost:8080/"
        },
        "id": "pvALWh-ZIaWY",
        "outputId": "87f948f0-704f-4405-f4bf-e754fb375316"
      },
      "source": [
        "Name = \"Triveni Mohankar\"\r\n",
        "print(len(Name))"
      ],
      "execution_count": null,
      "outputs": [
        {
          "output_type": "stream",
          "text": [
            "16\n"
          ],
          "name": "stdout"
        }
      ]
    },
    {
      "cell_type": "code",
      "metadata": {
        "colab": {
          "base_uri": "https://localhost:8080/"
        },
        "id": "Fze3fVb3Jptm",
        "outputId": "67bca691-2a80-4bed-c3b4-34441c30a706"
      },
      "source": [
        "x = float(13)\r\n",
        "print(x)"
      ],
      "execution_count": null,
      "outputs": [
        {
          "output_type": "stream",
          "text": [
            "13.0\n"
          ],
          "name": "stdout"
        }
      ]
    },
    {
      "cell_type": "code",
      "metadata": {
        "colab": {
          "base_uri": "https://localhost:8080/"
        },
        "id": "7zhXalWSKPEJ",
        "outputId": "64513ec0-6384-42d9-9a05-2f7ac35ea811"
      },
      "source": [
        "x = bool(1)\r\n",
        "y = bool(0)\r\n",
        "print(x)\r\n",
        "print(y)"
      ],
      "execution_count": null,
      "outputs": [
        {
          "output_type": "stream",
          "text": [
            "True\n",
            "False\n"
          ],
          "name": "stdout"
        }
      ]
    },
    {
      "cell_type": "code",
      "metadata": {
        "colab": {
          "base_uri": "https://localhost:8080/"
        },
        "id": "K2y0LePNKuLs",
        "outputId": "98f26f44-04b0-42cc-ccba-3a357ae5f91d"
      },
      "source": [
        "animals = ['cat', 'dog', 'rabbit']\r\n",
        "wild_animals = ['tiger', 'fox']\r\n",
        "animals.append(wild_animals)\r\n",
        "print('Updated animals list: ', animals)"
      ],
      "execution_count": null,
      "outputs": [
        {
          "output_type": "stream",
          "text": [
            "Updated animals list:  ['cat', 'dog', 'rabbit', ['tiger', 'fox']]\n"
          ],
          "name": "stdout"
        }
      ]
    },
    {
      "cell_type": "code",
      "metadata": {
        "colab": {
          "base_uri": "https://localhost:8080/"
        },
        "id": "r6OpAOt3K_xJ",
        "outputId": "5541a568-c0d0-4b17-99dc-146c868d1d28"
      },
      "source": [
        "fruits = ['apple','banana','grapes','banana']\r\n",
        "x = fruits.count('banana')\r\n",
        "print(x)"
      ],
      "execution_count": null,
      "outputs": [
        {
          "output_type": "stream",
          "text": [
            "2\n"
          ],
          "name": "stdout"
        }
      ]
    },
    {
      "cell_type": "code",
      "metadata": {
        "id": "D9q1GN-vRfyD"
      },
      "source": [
        ""
      ],
      "execution_count": null,
      "outputs": []
    },
    {
      "cell_type": "markdown",
      "metadata": {
        "id": "Bb1Y5yYlLL7z"
      },
      "source": [
        "**Q2 :- Try 5 Different function of the list object in python**"
      ]
    },
    {
      "cell_type": "code",
      "metadata": {
        "id": "huVLm9v-LedV",
        "colab": {
          "base_uri": "https://localhost:8080/"
        },
        "outputId": "57cb077e-8afd-4bc9-d3c4-a5ce086c99f8"
      },
      "source": [
        "fruits = ['apple', 'banana', 'cherry']\r\n",
        "cars = ['Ford', 'BMW', 'Volvo']\r\n",
        "fruits.extend(cars)\r\n",
        "print(fruits)"
      ],
      "execution_count": 3,
      "outputs": [
        {
          "output_type": "stream",
          "text": [
            "['apple', 'banana', 'cherry', 'Ford', 'BMW', 'Volvo']\n"
          ],
          "name": "stdout"
        }
      ]
    },
    {
      "cell_type": "code",
      "metadata": {
        "colab": {
          "base_uri": "https://localhost:8080/"
        },
        "id": "RM-Z7OFgMQXL",
        "outputId": "ab815216-6cc6-4a2a-81a5-db3351103866"
      },
      "source": [
        "Name = ['Triveni','Mohankar']\r\n",
        "Name.reverse()\r\n",
        "print(Name)"
      ],
      "execution_count": 4,
      "outputs": [
        {
          "output_type": "stream",
          "text": [
            "['Mohankar', 'Triveni']\n"
          ],
          "name": "stdout"
        }
      ]
    },
    {
      "cell_type": "code",
      "metadata": {
        "colab": {
          "base_uri": "https://localhost:8080/"
        },
        "id": "3FKScMqtM6e6",
        "outputId": "c291f8cf-474c-4363-9433-c08fee7e0ac1"
      },
      "source": [
        "lst = ['Triveni','Radha','Priti','Aaradhya']\r\n",
        "lst.sort()\r\n",
        "print(lst)"
      ],
      "execution_count": 7,
      "outputs": [
        {
          "output_type": "stream",
          "text": [
            "['Aaradhya', 'Priti', 'Radha', 'Triveni']\n"
          ],
          "name": "stdout"
        }
      ]
    },
    {
      "cell_type": "code",
      "metadata": {
        "colab": {
          "base_uri": "https://localhost:8080/"
        },
        "id": "YW_IWh5OOhH6",
        "outputId": "fad6b530-13ea-439c-fba0-7d87b9fb9ca0"
      },
      "source": [
        "lst1 = ['apples','grapes','BMW','kiwi','avacodo']\r\n",
        "print(lst1)\r\n",
        "lst1.pop(2)\r\n",
        "print(lst1)"
      ],
      "execution_count": 11,
      "outputs": [
        {
          "output_type": "stream",
          "text": [
            "['apples', 'grapes', 'BMW', 'kiwi', 'avacodo']\n",
            "['apples', 'grapes', 'kiwi', 'avacodo']\n"
          ],
          "name": "stdout"
        }
      ]
    },
    {
      "cell_type": "code",
      "metadata": {
        "colab": {
          "base_uri": "https://localhost:8080/"
        },
        "id": "1GmC3JEhP_6R",
        "outputId": "e3f71c0a-c5dd-41c9-98b5-da0905485f0f"
      },
      "source": [
        "lst.extend(lst1)\r\n",
        "print(lst)"
      ],
      "execution_count": 12,
      "outputs": [
        {
          "output_type": "stream",
          "text": [
            "['Aaradhya', 'Priti', 'Radha', 'Triveni', 'apples', 'grapes', 'kiwi', 'avacodo']\n"
          ],
          "name": "stdout"
        }
      ]
    },
    {
      "cell_type": "code",
      "metadata": {
        "id": "xIjbdMZ6RZyJ"
      },
      "source": [
        ""
      ],
      "execution_count": null,
      "outputs": []
    },
    {
      "cell_type": "markdown",
      "metadata": {
        "id": "e6R30JgORHwS"
      },
      "source": [
        "**Q3 :- Experiment with atleast 5 default function of dictonary ?**"
      ]
    },
    {
      "cell_type": "code",
      "metadata": {
        "colab": {
          "base_uri": "https://localhost:8080/"
        },
        "id": "CH3Ov_nyRYON",
        "outputId": "2c571f5c-d4a9-4446-8808-b7824c67990f"
      },
      "source": [
        "Dict = {1: 'Geeks', 2: 'For',  \r\n",
        "        3:{'A' : 'Welcome', 'B' : 'To', 'C' : 'Geeks'}} \r\n",
        "  \r\n",
        "print(Dict)"
      ],
      "execution_count": 13,
      "outputs": [
        {
          "output_type": "stream",
          "text": [
            "{1: 'Geeks', 2: 'For', 3: {'A': 'Welcome', 'B': 'To', 'C': 'Geeks'}}\n"
          ],
          "name": "stdout"
        }
      ]
    },
    {
      "cell_type": "code",
      "metadata": {
        "colab": {
          "base_uri": "https://localhost:8080/"
        },
        "id": "zSKHda8KUWoS",
        "outputId": "0cc04933-dccf-4abd-ec50-5e181c782167"
      },
      "source": [
        "Dist1 = {\r\n",
        "  \"brand\": \"Ford\",\r\n",
        "  \"model\": \"Mustang\",\r\n",
        "  \"year\": 1964\r\n",
        "}\r\n",
        "x = Dist1.items()\r\n",
        "print(x)"
      ],
      "execution_count": 15,
      "outputs": [
        {
          "output_type": "stream",
          "text": [
            "dict_items([('brand', 'Ford'), ('model', 'Mustang'), ('year', 1964)])\n"
          ],
          "name": "stdout"
        }
      ]
    },
    {
      "cell_type": "code",
      "metadata": {
        "colab": {
          "base_uri": "https://localhost:8080/"
        },
        "id": "TkCj87LiWwjR",
        "outputId": "baa45306-40e8-4d17-ad6a-07f571df7209"
      },
      "source": [
        "car = {\r\n",
        "  \"brand\": \"Ford\",\r\n",
        "  \"model\": \"Mustang\",\r\n",
        "  \"year\": 1964\r\n",
        "}\r\n",
        "car.update({\"color\": \"White\"})\r\n",
        "print(car)"
      ],
      "execution_count": 16,
      "outputs": [
        {
          "output_type": "stream",
          "text": [
            "{'brand': 'Ford', 'model': 'Mustang', 'year': 1964, 'color': 'White'}\n"
          ],
          "name": "stdout"
        }
      ]
    },
    {
      "cell_type": "code",
      "metadata": {
        "colab": {
          "base_uri": "https://localhost:8080/"
        },
        "id": "KTLN59Z8Yt8W",
        "outputId": "37831f59-775a-4bd5-aa3d-8fed39eed2f1"
      },
      "source": [
        "car = {\r\n",
        "  \"brand\": \"Ford\",\r\n",
        "  \"model\": \"Mustang\",\r\n",
        "  \"year\": 1964\r\n",
        "}\r\n",
        "car.popitem()\r\n",
        "print(car)"
      ],
      "execution_count": 18,
      "outputs": [
        {
          "output_type": "stream",
          "text": [
            "{'brand': 'Ford', 'model': 'Mustang'}\n"
          ],
          "name": "stdout"
        }
      ]
    },
    {
      "cell_type": "code",
      "metadata": {
        "colab": {
          "base_uri": "https://localhost:8080/"
        },
        "id": "4_tZ9gZcX3_S",
        "outputId": "a0ff70b5-b84c-420a-9611-53c003127c98"
      },
      "source": [
        "car = {\r\n",
        "  \"brand\": \"Ford\",\r\n",
        "  \"model\": \"Mustang\",\r\n",
        "  \"year\": 1964\r\n",
        "}\r\n",
        "x = car.keys()\r\n",
        "print(x)"
      ],
      "execution_count": 19,
      "outputs": [
        {
          "output_type": "stream",
          "text": [
            "dict_keys(['brand', 'model', 'year'])\n"
          ],
          "name": "stdout"
        }
      ]
    }
  ]
}