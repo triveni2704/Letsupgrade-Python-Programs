{
 "cells": [
  {
   "cell_type": "code",
   "execution_count": 8,
   "metadata": {},
   "outputs": [],
   "source": [
    "import pytube"
   ]
  },
  {
   "cell_type": "code",
   "execution_count": 9,
   "metadata": {},
   "outputs": [],
   "source": [
    "from pytube import YouTube"
   ]
  },
  {
   "cell_type": "code",
   "execution_count": 65,
   "metadata": {},
   "outputs": [],
   "source": [
    "from tkinter import *\n",
    "root = Tk()\n",
    "root.geometry(\"500x400\")\n",
    "root.title(\"Youtube Video Downloder\")\n",
    "root.configure(background=\"pink\")\n",
    "\n",
    "def youtube_link():\n",
    "    link = var.get()\n",
    "    video_link = YouTube(link).streams.filter(progressive=True, file_extension='mp4').order_by('resolution').desc().first()\n",
    "    video_link.download('C:\\\\Users\\Admin\\Desktop\\download youtube video')\n",
    "    \n",
    "myLabel = Label(root, text=\"Paste Youtube Link Here to Download Video\",fg=\"Red\",font=(\"bold\",15))\n",
    "myLabel.place(x=60,y=20)\n",
    "\n",
    "var=StringVar()\n",
    "entry1=Entry(root,textvariable=var,width=60)\n",
    "entry1.place(x=80,y=90)\n",
    "button1=Button(root,text=\"Download\",command=youtube_link,bg=\"Green\",width=30,fg=\"White\")\n",
    "button1.place(x=150,y=140)\n",
    "\n",
    "root.mainloop()\n",
    "\n",
    "#       https:\\\\www.youtube.com\\watch?v=mJMNpKamLrM&feature=youtu.be"
   ]
  },
  {
   "cell_type": "code",
   "execution_count": null,
   "metadata": {},
   "outputs": [],
   "source": []
  }
 ],
 "metadata": {
  "kernelspec": {
   "display_name": "Python 3",
   "language": "python",
   "name": "python3"
  },
  "language_info": {
   "codemirror_mode": {
    "name": "ipython",
    "version": 3
   },
   "file_extension": ".py",
   "mimetype": "text/x-python",
   "name": "python",
   "nbconvert_exporter": "python",
   "pygments_lexer": "ipython3",
   "version": "3.8.5"
  }
 },
 "nbformat": 4,
 "nbformat_minor": 4
}
