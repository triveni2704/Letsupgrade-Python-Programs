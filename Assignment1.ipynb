{
  "nbformat": 4,
  "nbformat_minor": 0,
  "metadata": {
    "colab": {
      "name": "Assignment1.ipynb",
      "provenance": [],
      "authorship_tag": "ABX9TyO3Aoc0N/dXZqKjvQcDpaO4",
      "include_colab_link": true
    },
    "kernelspec": {
      "name": "python3",
      "display_name": "Python 3"
    }
  },
  "cells": [
    {
      "cell_type": "markdown",
      "metadata": {
        "id": "view-in-github",
        "colab_type": "text"
      },
      "source": [
        "<a href=\"https://colab.research.google.com/github/triveni2704/Letsupgrade-Python-Programs/blob/main/Assignment1.ipynb\" target=\"_parent\"><img src=\"https://colab.research.google.com/assets/colab-badge.svg\" alt=\"Open In Colab\"/></a>"
      ]
    },
    {
      "cell_type": "markdown",
      "metadata": {
        "id": "2mwNJ4RKysXb"
      },
      "source": [
        "# Assignment 1\r\n"
      ]
    },
    {
      "cell_type": "markdown",
      "metadata": {
        "id": "73mG4Tlb0t8v"
      },
      "source": [
        "## **Try 5 Different functions of the string in Python**"
      ]
    },
    {
      "cell_type": "code",
      "metadata": {
        "colab": {
          "base_uri": "https://localhost:8080/"
        },
        "id": "etq9p2P-8S1A",
        "outputId": "b9a2953f-2347-46c3-9fe8-6bd36a0da1a9"
      },
      "source": [
        "def function(fname, lname):\r\n",
        "  print(fname + \" \" + lname)\r\n",
        "\r\n",
        "function(\"Triveni\", \"Mohankar\")"
      ],
      "execution_count": null,
      "outputs": [
        {
          "output_type": "stream",
          "text": [
            "Triveni Mohankar\n"
          ],
          "name": "stdout"
        }
      ]
    },
    {
      "cell_type": "code",
      "metadata": {
        "colab": {
          "base_uri": "https://localhost:8080/"
        },
        "id": "8dYdNELT_UEZ",
        "outputId": "0bdf4f99-b91d-407c-985c-837ca82b4df0"
      },
      "source": [
        "print(chr(84), chr(82), \r\n",
        "chr(73), chr(86), \r\n",
        "chr(69), chr(78), \r\n",
        "chr(73), chr(32), \r\n",
        "chr(77), chr(79), \r\n",
        "chr(72), chr(65),  \r\n",
        "chr(78), chr(75),\r\n",
        "chr(65), chr(82))  "
      ],
      "execution_count": null,
      "outputs": [
        {
          "output_type": "stream",
          "text": [
            "T R I V E N I   M O H A N K A R\n"
          ],
          "name": "stdout"
        }
      ]
    },
    {
      "cell_type": "code",
      "metadata": {
        "colab": {
          "base_uri": "https://localhost:8080/"
        },
        "id": "AAHi5Xvx7Xge",
        "outputId": "c822b43d-52ad-4023-83f2-13271c45ff7e"
      },
      "source": [
        "x = bool(1)\r\n",
        "y = bool(0)\r\n",
        "print(x)\r\n",
        "print(y)"
      ],
      "execution_count": 3,
      "outputs": [
        {
          "output_type": "stream",
          "text": [
            "True\n",
            "False\n"
          ],
          "name": "stdout"
        }
      ]
    },
    {
      "cell_type": "code",
      "metadata": {
        "colab": {
          "base_uri": "https://localhost:8080/"
        },
        "id": "IYigNfC78HeS",
        "outputId": "e26f8b83-a2c5-4e24-fe6e-c98d2756f047"
      },
      "source": [
        "x = dict(name = \"Triveni\", age = 23, country = \"India\")\r\n",
        "print(x)"
      ],
      "execution_count": 6,
      "outputs": [
        {
          "output_type": "stream",
          "text": [
            "{'name': 'Triveni', 'age': 23, 'country': 'India'}\n"
          ],
          "name": "stdout"
        }
      ]
    },
    {
      "cell_type": "code",
      "metadata": {
        "colab": {
          "base_uri": "https://localhost:8080/"
        },
        "id": "OQiGRR5n9sgw",
        "outputId": "46558065-e69c-4810-d6ee-43e3409040fd"
      },
      "source": [
        "n = 13  #it returns a binary value of a number\r\n",
        "bin_number = bin(n)\r\n",
        "print(bin_number)"
      ],
      "execution_count": 18,
      "outputs": [
        {
          "output_type": "stream",
          "text": [
            "0b1101\n"
          ],
          "name": "stdout"
        }
      ]
    },
    {
      "cell_type": "code",
      "metadata": {
        "colab": {
          "base_uri": "https://localhost:8080/"
        },
        "id": "96p8Qs5BA_GR",
        "outputId": "6aad52ab-1311-4b9b-e480-132c29dea467"
      },
      "source": [
        "x = float(13)\r\n",
        "print(x)"
      ],
      "execution_count": 20,
      "outputs": [
        {
          "output_type": "stream",
          "text": [
            "13.0\n"
          ],
          "name": "stdout"
        }
      ]
    }
  ]
}