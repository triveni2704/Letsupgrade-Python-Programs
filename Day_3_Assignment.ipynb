{
  "nbformat": 4,
  "nbformat_minor": 0,
  "metadata": {
    "colab": {
      "name": "Day 3 Assignment.ipynb",
      "provenance": [],
      "authorship_tag": "ABX9TyOMr2XL6UizRHg11Uqs25Mn",
      "include_colab_link": true
    },
    "kernelspec": {
      "name": "python3",
      "display_name": "Python 3"
    }
  },
  "cells": [
    {
      "cell_type": "markdown",
      "metadata": {
        "id": "view-in-github",
        "colab_type": "text"
      },
      "source": [
        "<a href=\"https://colab.research.google.com/github/triveni2704/Letsupgrade-Python-Programs/blob/main/Day_3_Assignment.ipynb\" target=\"_parent\"><img src=\"https://colab.research.google.com/assets/colab-badge.svg\" alt=\"Open In Colab\"/></a>"
      ]
    },
    {
      "cell_type": "markdown",
      "metadata": {
        "id": "uDQLWwY_UTBa"
      },
      "source": [
        "# **Assignment 2**"
      ]
    },
    {
      "cell_type": "markdown",
      "metadata": {
        "id": "d7K7GvGOTylL"
      },
      "source": [
        "**Q1 :- Use if else and elif to write a program in python for your report card**"
      ]
    },
    {
      "cell_type": "code",
      "metadata": {
        "id": "qHS_4JCgTbgh",
        "colab": {
          "base_uri": "https://localhost:8080/"
        },
        "outputId": "65ffb4ff-7249-4c32-8c6b-2c846eb38572"
      },
      "source": [
        "marks = int(input(\"enter the number :- \"))\r\n",
        "if marks >= 90:\r\n",
        "  grade = 'A+'\r\n",
        "elif marks >= 80:\r\n",
        "  grade = 'A'\r\n",
        "elif marks >= 70:\r\n",
        "  grade = 'B+'\r\n",
        "elif marks >= 60:\r\n",
        "  grade = 'B'\r\n",
        "elif marks >= 50:\r\n",
        "  grade = 'C'\r\n",
        "elif marks >= 35:\r\n",
        "  grade = 'D' \r\n",
        "else:\r\n",
        "  grade = 'Fail'\r\n",
        "print(grade)"
      ],
      "execution_count": 19,
      "outputs": [
        {
          "output_type": "stream",
          "text": [
            "enter the number :- 34\n",
            "Fail\n"
          ],
          "name": "stdout"
        }
      ]
    },
    {
      "cell_type": "markdown",
      "metadata": {
        "id": "1Afk7mI0jLU8"
      },
      "source": [
        "**Q2 :- Use for loop to print prime numbers in between 1 to 1000**"
      ]
    },
    {
      "cell_type": "code",
      "metadata": {
        "colab": {
          "base_uri": "https://localhost:8080/"
        },
        "id": "BuLFfihqjYCa",
        "outputId": "36f694a1-b2bb-4bfb-81fa-43a98f5d50ca"
      },
      "source": [
        "for Number in range (1, 1001):\r\n",
        "    count = 0\r\n",
        "    for i in range(2, (Number//2 + 1)):\r\n",
        "        if(Number % i == 0):\r\n",
        "            count = count + 1\r\n",
        "            break\r\n",
        "    if (count == 0 and Number != 1):\r\n",
        "        print(\" \\n%d\" %Number, end = '  ')"
      ],
      "execution_count": 18,
      "outputs": [
        {
          "output_type": "stream",
          "text": [
            " \n",
            "2   \n",
            "3   \n",
            "5   \n",
            "7   \n",
            "11   \n",
            "13   \n",
            "17   \n",
            "19   \n",
            "23   \n",
            "29   \n",
            "31   \n",
            "37   \n",
            "41   \n",
            "43   \n",
            "47   \n",
            "53   \n",
            "59   \n",
            "61   \n",
            "67   \n",
            "71   \n",
            "73   \n",
            "79   \n",
            "83   \n",
            "89   \n",
            "97   \n",
            "101   \n",
            "103   \n",
            "107   \n",
            "109   \n",
            "113   \n",
            "127   \n",
            "131   \n",
            "137   \n",
            "139   \n",
            "149   \n",
            "151   \n",
            "157   \n",
            "163   \n",
            "167   \n",
            "173   \n",
            "179   \n",
            "181   \n",
            "191   \n",
            "193   \n",
            "197   \n",
            "199   \n",
            "211   \n",
            "223   \n",
            "227   \n",
            "229   \n",
            "233   \n",
            "239   \n",
            "241   \n",
            "251   \n",
            "257   \n",
            "263   \n",
            "269   \n",
            "271   \n",
            "277   \n",
            "281   \n",
            "283   \n",
            "293   \n",
            "307   \n",
            "311   \n",
            "313   \n",
            "317   \n",
            "331   \n",
            "337   \n",
            "347   \n",
            "349   \n",
            "353   \n",
            "359   \n",
            "367   \n",
            "373   \n",
            "379   \n",
            "383   \n",
            "389   \n",
            "397   \n",
            "401   \n",
            "409   \n",
            "419   \n",
            "421   \n",
            "431   \n",
            "433   \n",
            "439   \n",
            "443   \n",
            "449   \n",
            "457   \n",
            "461   \n",
            "463   \n",
            "467   \n",
            "479   \n",
            "487   \n",
            "491   \n",
            "499   \n",
            "503   \n",
            "509   \n",
            "521   \n",
            "523   \n",
            "541   \n",
            "547   \n",
            "557   \n",
            "563   \n",
            "569   \n",
            "571   \n",
            "577   \n",
            "587   \n",
            "593   \n",
            "599   \n",
            "601   \n",
            "607   \n",
            "613   \n",
            "617   \n",
            "619   \n",
            "631   \n",
            "641   \n",
            "643   \n",
            "647   \n",
            "653   \n",
            "659   \n",
            "661   \n",
            "673   \n",
            "677   \n",
            "683   \n",
            "691   \n",
            "701   \n",
            "709   \n",
            "719   \n",
            "727   \n",
            "733   \n",
            "739   \n",
            "743   \n",
            "751   \n",
            "757   \n",
            "761   \n",
            "769   \n",
            "773   \n",
            "787   \n",
            "797   \n",
            "809   \n",
            "811   \n",
            "821   \n",
            "823   \n",
            "827   \n",
            "829   \n",
            "839   \n",
            "853   \n",
            "857   \n",
            "859   \n",
            "863   \n",
            "877   \n",
            "881   \n",
            "883   \n",
            "887   \n",
            "907   \n",
            "911   \n",
            "919   \n",
            "929   \n",
            "937   \n",
            "941   \n",
            "947   \n",
            "953   \n",
            "967   \n",
            "971   \n",
            "977   \n",
            "983   \n",
            "991   \n",
            "997  "
          ],
          "name": "stdout"
        }
      ]
    },
    {
      "cell_type": "markdown",
      "metadata": {
        "id": "BD5SebGJl27c"
      },
      "source": [
        "**Q3 :- WAP for printing the table from 1 to 10 using nested for loop**"
      ]
    },
    {
      "cell_type": "code",
      "metadata": {
        "colab": {
          "base_uri": "https://localhost:8080/"
        },
        "id": "wML4YgptmNY6",
        "outputId": "966f2f36-be95-4be7-ab44-a52f1c67d504"
      },
      "source": [
        "num = int(input(\"Enter the number: \"))\r\n",
        "print(\"Multiplication Table of\", num)\r\n",
        "for i in range(1, 11):\r\n",
        "   print(num * i)"
      ],
      "execution_count": 27,
      "outputs": [
        {
          "output_type": "stream",
          "text": [
            "Enter the number: 6\n",
            "Multiplication Table of 6\n",
            "6\n",
            "12\n",
            "18\n",
            "24\n",
            "30\n",
            "36\n",
            "42\n",
            "48\n",
            "54\n",
            "60\n"
          ],
          "name": "stdout"
        }
      ]
    },
    {
      "cell_type": "markdown",
      "metadata": {
        "id": "z1U7WVJYm9iL"
      },
      "source": [
        "**Q4:- WAP to print X prime number using while loop and take input X from user**"
      ]
    },
    {
      "cell_type": "code",
      "metadata": {
        "colab": {
          "base_uri": "https://localhost:8080/"
        },
        "id": "LNMo2z1qm-Q-",
        "outputId": "12e4e68c-425e-4025-f320-85caf61a59ae"
      },
      "source": [
        "n = int(input(\" Please Enter the maximum range: \"))\r\n",
        "Number = 2\r\n",
        "p = [] \r\n",
        "m = int(input(\"How many prime number you want? \"))\r\n",
        "while(Number <= n):\r\n",
        "   count = 0\r\n",
        "   i = 2\r\n",
        "   while(i <= Number//2):\r\n",
        "       if(Number % i == 0):\r\n",
        "           count = count + 1\r\n",
        "           break\r\n",
        "       i = i + 1\r\n",
        "   if (count == 0):\r\n",
        "       p.append(Number)    \r\n",
        "   Number = Number  + 1\r\n",
        "   if len(p)==m:\r\n",
        "       break\r\n",
        "print(\"The first \", m, \"prime numbers :\", p)"
      ],
      "execution_count": 20,
      "outputs": [
        {
          "output_type": "stream",
          "text": [
            " Please Enter the maximum range: 100\n",
            "How many prime number you want? 10\n",
            "The first  10 prime numbers : [2, 3, 5, 7, 11, 13, 17, 19, 23, 29]\n"
          ],
          "name": "stdout"
        }
      ]
    }
  ]
}